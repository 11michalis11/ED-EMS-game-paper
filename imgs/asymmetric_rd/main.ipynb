{
 "cells": [
  {
   "cell_type": "code",
   "execution_count": 1,
   "source": [
    "import nashpy as nash\r\n",
    "import numpy as np\r\n",
    "import matplotlib.pyplot as plt\r\n",
    "\r\n",
    "import ambulance_game as abg"
   ],
   "outputs": [],
   "metadata": {}
  },
  {
   "cell_type": "code",
   "execution_count": 2,
   "source": [
    "lambda_2 = 2\r\n",
    "lambda_1_1 = 1\r\n",
    "lambda_1_2 = 2\r\n",
    "mu_1 = 2\r\n",
    "mu_2 = 2.5\r\n",
    "num_of_servers_1 = 2\r\n",
    "num_of_servers_2 = 2\r\n",
    "system_capacity_1 = 10\r\n",
    "system_capacity_2 = 10\r\n",
    "buffer_capacity_1 = 6\r\n",
    "buffer_capacity_2 = 6\r\n",
    "target = 2\r\n",
    "alpha = 0.5"
   ],
   "outputs": [],
   "metadata": {}
  },
  {
   "cell_type": "code",
   "execution_count": 3,
   "source": [
    "A, B, R = abg.game.get_payoff_matrices(\r\n",
    "    lambda_2=lambda_2,\r\n",
    "    lambda_1_1=lambda_1_1,\r\n",
    "    lambda_1_2=lambda_1_2,\r\n",
    "    mu_1=mu_1,\r\n",
    "    mu_2=mu_2,\r\n",
    "    num_of_servers_1=num_of_servers_1,\r\n",
    "    num_of_servers_2=num_of_servers_2,\r\n",
    "    system_capacity_1=system_capacity_1,\r\n",
    "    system_capacity_2=system_capacity_2,\r\n",
    "    buffer_capacity_1=buffer_capacity_1,\r\n",
    "    buffer_capacity_2=buffer_capacity_2,\r\n",
    "    target=target,\r\n",
    "    alpha=alpha,\r\n",
    ")\r\n",
    "A += 1\r\n",
    "B += 1"
   ],
   "outputs": [],
   "metadata": {}
  },
  {
   "cell_type": "code",
   "execution_count": 27,
   "source": [
    "A"
   ],
   "outputs": [
    {
     "output_type": "execute_result",
     "data": {
      "text/plain": [
       "array([[0.99918671, 0.99918671, 0.99918671, 0.99918671, 0.99918671,\n",
       "        0.99918671, 0.99918671, 0.99918671, 0.99918671, 0.99918671],\n",
       "       [0.99936972, 0.99932293, 0.99930184, 0.99928406, 0.99926849,\n",
       "        0.99925423, 0.99924015, 0.99922402, 0.99920002, 0.99918671],\n",
       "       [0.99985313, 0.9997141 , 0.99963561, 0.99957051, 0.99951512,\n",
       "        0.99946627, 0.99942044, 0.99937197, 0.99930891, 0.99920199],\n",
       "       [0.99997998, 0.99998602, 0.99992204, 0.99984476, 0.99976845,\n",
       "        0.99969619, 0.9996261 , 0.99955186, 0.99945842, 0.99930943],\n",
       "       [0.99942588, 0.99980243, 0.99997937, 0.99999609, 0.99995421,\n",
       "        0.99988979, 0.99981481, 0.99972831, 0.99961589, 0.9994363 ],\n",
       "       [0.99802146, 0.99867492, 0.99956675, 0.99989037, 0.99999052,\n",
       "        0.99999356, 0.99994953, 0.99987467, 0.99976157, 0.99956732],\n",
       "       [0.99595333, 0.99595333, 0.99844909, 0.99940334, 0.99980488,\n",
       "        0.99996182, 1.        , 0.99997025, 0.99988108, 0.99969294],\n",
       "       [0.99379269, 0.99379269, 0.99643095, 0.99843077, 0.99933594,\n",
       "        0.99975642, 0.99994185, 0.9999994 , 0.9999648 , 0.99980817],\n",
       "       [0.99252692, 0.99252692, 0.99252692, 0.9967127 , 0.99842789,\n",
       "        0.99928332, 0.99971922, 0.99993151, 0.99999998, 0.99991361],\n",
       "       [0.99347404, 0.99347404, 0.99347404, 0.99347404, 0.99594315,\n",
       "        0.9978589 , 0.99892669, 0.99954011, 0.99988393, 0.99999828]])"
      ]
     },
     "metadata": {},
     "execution_count": 27
    }
   ],
   "metadata": {}
  },
  {
   "cell_type": "code",
   "execution_count": 5,
   "source": [
    "B"
   ],
   "outputs": [
    {
     "output_type": "execute_result",
     "data": {
      "text/plain": [
       "array([[0.99851871, 0.99868111, 0.9990861 , 0.9995429 , 0.9999187 ,\n",
       "        0.99996827, 0.99961116, 0.9990146 , 0.998701  , 0.99907942],\n",
       "       [0.99851871, 0.99860765, 0.99885383, 0.99917252, 0.99952384,\n",
       "        0.99983498, 0.99999682, 0.99986809, 0.99922208, 0.99907942],\n",
       "       [0.99851871, 0.99858271, 0.99877332, 0.99902798, 0.999321  ,\n",
       "        0.99961515, 0.99985949, 0.99999304, 0.99992086, 0.99928308],\n",
       "       [0.99851871, 0.99856291, 0.99871317, 0.99892144, 0.9991668 ,\n",
       "        0.99942607, 0.99967143, 0.99987336, 0.99999332, 0.99987156],\n",
       "       [0.99851871, 0.9985465 , 0.99866581, 0.99883897, 0.99904656,\n",
       "        0.99927204, 0.99949805, 0.99970996, 0.99989564, 0.99999917],\n",
       "       [0.99851871, 0.99853248, 0.99862707, 0.99877271, 0.99895019,\n",
       "        0.99914625, 0.99934925, 0.99955196, 0.99975544, 0.9999574 ],\n",
       "       [0.99851871, 0.99851871, 0.99859396, 0.99871718, 0.99887007,\n",
       "        0.99904114, 0.999222  , 0.99940949, 0.99961136, 0.99985317],\n",
       "       [0.99851871, 0.99851871, 0.99856285, 0.99866651, 0.9987981 ,\n",
       "        0.99894725, 0.9991076 , 0.99927831, 0.99947058, 0.99972439],\n",
       "       [0.99851871, 0.99851871, 0.99851871, 0.99860816, 0.99871868,\n",
       "        0.99884648, 0.99898652, 0.99913953, 0.99931851, 0.99957151],\n",
       "       [0.99851871, 0.99851871, 0.99851871, 0.99851871, 0.99858352,\n",
       "        0.99868516, 0.99880086, 0.99893251, 0.99909435, 0.99933899]])"
      ]
     },
     "metadata": {},
     "execution_count": 5
    }
   ],
   "metadata": {}
  },
  {
   "cell_type": "code",
   "execution_count": null,
   "source": [
    "my_game = nash.Game(A, B)\r\n",
    "xs, ys = my_game.asymmetric_replicator_dynamics(timepoints=np.linspace(1, 200000, 100))"
   ],
   "outputs": [],
   "metadata": {}
  },
  {
   "cell_type": "code",
   "execution_count": null,
   "source": [
    "plt.figure(figsize=(15, 5))\r\n",
    "plt.subplot(1, 2, 1)\r\n",
    "plt.plot(xs)\r\n",
    "plt.xlabel(\"Timepoints\")\r\n",
    "plt.ylabel(\"Probability\")\r\n",
    "plt.title(\"Row player\")\r\n",
    "plt.legend([f\"$s_{{{i + 1}}}$\" for i in range(len(xs[0]))])\r\n",
    "\r\n",
    "plt.subplot(1, 2, 2)\r\n",
    "plt.plot(ys)\r\n",
    "plt.xlabel(\"Timepoints\")\r\n",
    "plt.ylabel(\"Probability\")\r\n",
    "plt.title(\"Column player\")\r\n",
    "plt.legend([f\"$s_{{{i + 1}}}$\" for i in range(len(ys[0]))])\r\n",
    "\r\n",
    "# plt.savefig(\"asymmetric_rd.png\", transparent=True)\r\n",
    "plt.show()"
   ],
   "outputs": [],
   "metadata": {}
  }
 ],
 "metadata": {
  "orig_nbformat": 4,
  "language_info": {
   "name": "python",
   "version": "3.9.0",
   "mimetype": "text/x-python",
   "codemirror_mode": {
    "name": "ipython",
    "version": 3
   },
   "pygments_lexer": "ipython3",
   "nbconvert_exporter": "python",
   "file_extension": ".py"
  },
  "kernelspec": {
   "name": "python3",
   "display_name": "Python 3.9.0 64-bit ('GamePaper': conda)"
  },
  "interpreter": {
   "hash": "9d0a231f7a1ac4999260dcf904b8b7607d6916d2ba7540ced993fb6fb0d0a861"
  }
 },
 "nbformat": 4,
 "nbformat_minor": 2
}